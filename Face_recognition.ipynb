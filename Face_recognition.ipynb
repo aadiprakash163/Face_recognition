{
 "cells": [
  {
   "cell_type": "markdown",
   "metadata": {},
   "source": [
    "## Face recognition\n",
    "This project demonstrates facial recognition using opencv, python, and deep learning. The face_recognition library is used to detect faces. The detected faces are cropped and resized to generate training data. The network used consists of 2 convolutional layers, 2 fully connected layers. Relu is used as the activation function after each convolution layer and maxpooling is applied. The cropped and resized image is normalized for improved learning.\n"
   ]
  },
  {
   "cell_type": "code",
   "execution_count": 8,
   "metadata": {},
   "outputs": [],
   "source": [
    "# Import necessary packages\n",
    "import csv\n",
    "import cv2\n",
    "from sklearn.utils import shuffle\n",
    "import face_recognition\n",
    "import sklearn\n",
    "import pickle"
   ]
  },
  {
   "cell_type": "code",
   "execution_count": null,
   "metadata": {},
   "outputs": [],
   "source": [
    "def CreateCSVfiles():\n",
    "    \"\"\"\n",
    "        This function creates three csv files; one for training, one for validation and one for testing. From every face class one validation image is taken and rest of\n",
    "        the images are taken for training. All images with multiple faces are taken only for tesing.\n",
    "    \"\"\"\n",
    "    subfolders = os.listdir(\"trainset/\")\n",
    "    \n",
    "    # Index given to each class\n",
    "    c_index = 0\n",
    "\n",
    "    with open('trainImages.csv', 'w') as traincsv, open('validImages.csv', 'w') as testcsv, open('test2Images.csv', 'w') as test2csv:\n",
    "        trainwriter = csv.writer(traincsv)\n",
    "        testwriter = csv.writer(testcsv)\n",
    "        test2writer = csv.writer(test2csv)\n",
    "        \n",
    "        # Parse through the folders\n",
    "        for subfolder in subfolders:\n",
    "            subsubfolders = os.listdir(\"trainset/\" + subfolder)\n",
    "            for subsubfolder in subsubfolders:\n",
    "                c_index += 1\n",
    "                images = os.listdir(\"trainset/\" + subfolder+ \"/\" + subsubfolder)\n",
    "                onetrain = False\n",
    "                onetest = False\n",
    "                for image in images:\n",
    "                    path_to_image = \"trainset/\" + subfolder + \"/\" + subsubfolder + \"/\" + image\n",
    "                    row = [path_to_image, c_index, subsubfolder]\n",
    "#                     print(path_to_image)\n",
    "                    try:\n",
    "                        if face_det_info(path_to_image) == 1: # If only one face is detected in the image\n",
    "                            if not onetrain:\n",
    "                                trainwriter.writerow(row)\n",
    "                                onetrain = True\n",
    "                                if onetrain and not onetest:\n",
    "                                    testwriter.writerow(row)\n",
    "                                    onetest = True\n",
    "                                    if onetest:\n",
    "                                        trainwriter.writerow(row)\n",
    "\n",
    "                        else:\n",
    "                            test2writer.writerow(row)\n",
    "                    except Exception:\n",
    "                        pass"
   ]
  },
  {
   "cell_type": "code",
   "execution_count": null,
   "metadata": {},
   "outputs": [],
   "source": [
    "# We nee to call the below function only once. Since the csv file is already generated, the following line is commented\n",
    "\n",
    "# CreateCSVfiles()"
   ]
  },
  {
   "cell_type": "code",
   "execution_count": 9,
   "metadata": {},
   "outputs": [],
   "source": [
    "def createData(csvfile):\n",
    "    \"\"\"\n",
    "        This function creates the dataset for training and validating using the given .csv file\n",
    "    \"\"\"\n",
    "    x = []; y = []\n",
    "    i = 0\n",
    "    with open(csvfile, 'r') as f:\n",
    "        reader = csv.reader(f)\n",
    "\n",
    "        for row in reader:\n",
    "            i += 1\n",
    "            print(i)\n",
    "            imgpath = row[0]\n",
    "            clas = row[1]\n",
    "            y.append(clas)\n",
    "            \n",
    "            image = cv2.imread(imgpath)\n",
    "            rgb = cv2.cvtColor(image, cv2.COLOR_BGR2RGB)\n",
    "            boxes = face_recognition.face_locations(rgb)\n",
    "            top, right, bottom, left = boxes[0]\n",
    "            cropped_gray_image = cv2.cvtColor(rgb[top:bottom, left:right], cv2.COLOR_RGB2GRAY)\n",
    "            norm_image = cv2.normalize(cropped_gray_image, None, alpha=0, beta=1, norm_type=cv2.NORM_MINMAX, dtype=cv2.CV_32F)\n",
    "            resized_image = cv2.resize(norm_image, (32, 32))\n",
    "            x.append(resized_image)\n",
    "    return(shuffle(x, y))"
   ]
  },
  {
   "cell_type": "code",
   "execution_count": 1,
   "metadata": {},
   "outputs": [],
   "source": [
    "def create_and_save_training_data(csvfile):\n",
    "    \"\"\"\n",
    "        Create and save the training data into a pickle file for later use\n",
    "    \"\"\"\n",
    "    print(\"Creating training data.....\")\n",
    "    X_train, y_train = createData(csvfile)\n",
    "    with open('trainingpickledata.pkl', 'wb') as tr:\n",
    "        pickle.dump([X_train, y_train], tr)\n",
    "\n",
    "\n",
    "def create_and_save_validation_data(csvfile):\n",
    "    \"\"\"\n",
    "        Create and save the validation data into a pickle file for later use\n",
    "    \"\"\"\n",
    "    print(\"Creating validation data.....\")\n",
    "    X_valid_norm, y_valid = createData(csvfile)\n",
    "    with open('testingpickledata.pkl', 'wb') as te:\n",
    "        pickle.dump([X_valid_norm, y_valid], te)"
   ]
  },
  {
   "cell_type": "code",
   "execution_count": 4,
   "metadata": {},
   "outputs": [
    {
     "name": "stdout",
     "output_type": "stream",
     "text": [
      "Data created\n"
     ]
    }
   ],
   "source": [
    "# Uncomment the following lines to regenerate the training and validation datasets\n",
    "\n",
    "# create_and_save_training_data('trainImages.csv')\n",
    "# create_and_save_validation_data('validationImages.csv')\n",
    "print(\"Data created\")"
   ]
  },
  {
   "cell_type": "code",
   "execution_count": 11,
   "metadata": {},
   "outputs": [],
   "source": [
    "def conv2d(x,W,b,strides = 1):\n",
    "    \"\"\"Convolution layer wraper\"\"\"\n",
    "    conv_net = tf.nn.conv2d(x,W,strides = [1, strides, strides, 1],padding = 'SAME' )\n",
    "    conv_net = tf.nn.bias_add(conv_net,b)\n",
    "    return conv_net\n",
    "\n",
    "def maxpool2d(x, k = 2):\n",
    "    \"\"\"Maxpool wraper\"\"\"\n",
    "    mp = tf.nn.max_pool(x,ksize = [1, k, k, 1],strides = [1, k, k, 1],padding = 'SAME')\n",
    "    return mp"
   ]
  },
  {
   "cell_type": "code",
   "execution_count": 12,
   "metadata": {},
   "outputs": [],
   "source": [
    "def conv_net(x,dropout):\n",
    "    \"\"\"Convolution network model\"\"\"\n",
    "    cn1 = conv2d(x,weights['wc1'],biases['bc1'])\n",
    "    cn1 = tf.nn.relu(cn1)\n",
    "    cn1 = maxpool2d(cn1, k=2)\n",
    "    \n",
    "\n",
    "    cn2 = conv2d(cn1,weights['wc2'],biases['bc2'])\n",
    "    cn2 = tf.nn.relu(cn2)\n",
    "    cn2 = maxpool2d(cn2, k=2)\n",
    "\n",
    "    # fc0 = flatten(cn2)\n",
    "    fc0 = tf.reshape(cn2, [tf.shape(cn2)[0], -1]) \n",
    "\n",
    "    fc1 = tf.add(tf.matmul(fc0,weights['wfc1']),biases['bfc1'])\n",
    "    fc1 = tf.nn.relu(fc1)\n",
    "    fc1 = tf.nn.dropout(fc1,dropout)\n",
    "    \n",
    "    fc2 = tf.add(tf.matmul(fc1,weights['wfc2']),biases['bfc2'])\n",
    "    fc2 = tf.nn.relu(fc2)\n",
    "    fc2 = tf.nn.dropout(fc2,dropout)\n",
    "\n",
    "    out = tf.add(tf.matmul(fc2,weights['out']),biases['out'])\n",
    "\n",
    "    return out"
   ]
  },
  {
   "cell_type": "code",
   "execution_count": 13,
   "metadata": {},
   "outputs": [],
   "source": [
    "def evaluate(X_data, y_data):\n",
    "    \"\"\"Evaluate accuracy of model on the given dataset\"\"\"\n",
    "    total_accuracy = 0.0\n",
    "    n_data = len(X_data)\n",
    "    sess = tf.get_default_session()\n",
    "    for start in range(0, n_data, batch_size):\n",
    "        end = start + batch_size\n",
    "        batch_x, batch_y = X_data[start:end], y_data[start: end]\n",
    "        acc = sess.run(accuracy,feed_dict = {x: batch_x, y: batch_y, dropout : 1.0})\n",
    "        total_accuracy += (acc*len(batch_x))\n",
    "    return total_accuracy/n_data"
   ]
  },
  {
   "cell_type": "markdown",
   "metadata": {},
   "source": [
    "### Train, Validate and Test the model\n",
    "\n",
    "#### Training parameters:\n",
    "Learning rate used in training:0.001\n",
    "\n",
    "Batch Size: 128\n",
    "\n",
    "Optimizer used: Adam Optimizer\n",
    "\n",
    "Dropout conv_net : Not Applied\n",
    "\n",
    "Dropout at fully connected layer: 0.75\n",
    "\n",
    "Validation accuracy target : 0.95"
   ]
  },
  {
   "cell_type": "code",
   "execution_count": 14,
   "metadata": {},
   "outputs": [
    {
     "name": "stdout",
     "output_type": "stream",
     "text": [
      "WARNING:tensorflow:From /home/aaditya/.local/lib/python2.7/site-packages/tensorflow_core/python/compat/v2_compat.py:88: disable_resource_variables (from tensorflow.python.ops.variable_scope) is deprecated and will be removed in a future version.\n",
      "Instructions for updating:\n",
      "non-resource variables are not supported in the long term\n"
     ]
    }
   ],
   "source": [
    "\n",
    "learn_rate = 0.001\n",
    "batch_size = 128\n",
    "n_classes = 1012\n",
    "\n",
    "\n",
    "weights = {\n",
    "    'wc1' : tf.Variable(tf.random.truncated_normal([5,5,3,32],mean = 0, stddev = 0.1)),\n",
    "    'wc2' : tf.Variable(tf.random.truncated_normal([5,5,32,64],mean = 0, stddev = 0.1)),\n",
    "    'wfc1' : tf.Variable(tf.random.truncated_normal([8*8*64,1024],mean = 0, stddev = 0.1)),\n",
    "    'wfc2' : tf.Variable(tf.random.truncated_normal([1024,400],mean = 0, stddev = 0.1)),\n",
    "    'out'  : tf.Variable(tf.random.truncated_normal([400, n_classes], mean = 0, stddev = 0.1))\n",
    "}\n",
    "\n",
    "biases = {\n",
    "    'bc1' : tf.Variable(tf.zeros(32)),\n",
    "    'bc2' : tf.Variable(tf.zeros(64)),\n",
    "    'bfc1': tf.Variable(tf.zeros(1024)),\n",
    "    'bfc2': tf.Variable(tf.zeros(400)),\n",
    "    'out' : tf.Variable(tf.zeros(n_classes))\n",
    "}"
   ]
  },
  {
   "cell_type": "code",
   "execution_count": 15,
   "metadata": {},
   "outputs": [
    {
     "name": "stdout",
     "output_type": "stream",
     "text": [
      "WARNING:tensorflow:From <ipython-input-12-36c252fc8378>:17: calling dropout (from tensorflow.python.ops.nn_ops) with keep_prob is deprecated and will be removed in a future version.\n",
      "Instructions for updating:\n",
      "Please use `rate` instead of `keep_prob`. Rate should be set to `rate = 1 - keep_prob`.\n",
      "WARNING:tensorflow:From <ipython-input-15-234d95c7e7d4>:8: softmax_cross_entropy_with_logits (from tensorflow.python.ops.nn_ops) is deprecated and will be removed in a future version.\n",
      "Instructions for updating:\n",
      "\n",
      "Future major versions of TensorFlow will allow gradients to flow\n",
      "into the labels input on backprop by default.\n",
      "\n",
      "See `tf.nn.softmax_cross_entropy_with_logits_v2`.\n",
      "\n"
     ]
    }
   ],
   "source": [
    "# Define variables and expressions for learning\n",
    "\n",
    "x = tf.placeholder(tf.float32, (None, 32, 32, 3))\n",
    "y = tf.placeholder(tf.int32,[None])\n",
    "dropout = tf.placeholder(tf.float32)\n",
    "one_hot_y = tf.one_hot(y,depth=1012, on_value = 1., off_value = 0., axis=-1)\n",
    "\n",
    "logits = conv_net(x,dropout)\n",
    "cross_entropy = tf.nn.softmax_cross_entropy_with_logits(labels = one_hot_y, logits = logits)\n",
    "cost = tf.reduce_mean(cross_entropy)\n",
    "optimizer = tf.train.AdamOptimizer(learning_rate = learn_rate).minimize(cost)\n",
    "\n",
    "correct_prediction = tf.equal(tf.argmax(logits,1),tf.argmax(one_hot_y,1))\n",
    "accuracy = tf.reduce_mean(tf.cast(correct_prediction,tf.float32))\n",
    "\n",
    "init = tf.global_variables_initializer()\n",
    "saver = tf.train.Saver()\n"
   ]
  },
  {
   "cell_type": "code",
   "execution_count": 12,
   "metadata": {},
   "outputs": [
    {
     "name": "stdout",
     "output_type": "stream",
     "text": [
      "Loading the training and validation data from pickle file\n"
     ]
    }
   ],
   "source": [
    "\n",
    "print(\"Loading the training and validation data from pickle file\")\n",
    "\n",
    "with open('trainingpickledata.pkl', 'rb') as f:\n",
    "    trdata = pickle.load(f)\n",
    "\n",
    "[X_train_norm, y_train] = trdata\n",
    "X_train_norm = np.asarray(X_train_norm, dtype = np.float32)\n",
    "X_train_norm = np.stack((X_train_norm, X_train_norm, X_train_norm), axis = -1)\n",
    "\n",
    "# print(X_train_norm.shape)\n",
    "# exit()\n",
    "\n",
    "with open('testingpickledata.pkl', 'rb') as f2:\n",
    "    tedata = pickle.load(f2)\n",
    "\n",
    "[X_valid_norm, y_valid] = tedata\n",
    "X_valid_norm = np.asarray(X_valid_norm, dtype = np.float32)\n",
    "X_valid_norm = np.stack((X_valid_norm, X_valid_norm, X_valid_norm), axis = -1)\n",
    "\n",
    "\n",
    "train_size = len(X_train_norm)"
   ]
  },
  {
   "cell_type": "code",
   "execution_count": 15,
   "metadata": {},
   "outputs": [
    {
     "name": "stdout",
     "output_type": "stream",
     "text": [
      "Starting learning\n",
      "Training....\n",
      "()\n",
      "EPOCH 1 ...\n",
      "Validation Accuracy = 0.001\n",
      "()\n",
      "EPOCH 2 ...\n",
      "Validation Accuracy = 0.006\n",
      "()\n",
      "EPOCH 3 ...\n",
      "Validation Accuracy = 0.013\n",
      "()\n",
      "EPOCH 4 ...\n",
      "Validation Accuracy = 0.043\n",
      "()\n",
      "EPOCH 5 ...\n",
      "Validation Accuracy = 0.161\n",
      "()\n",
      "EPOCH 6 ...\n",
      "Validation Accuracy = 0.372\n",
      "()\n",
      "EPOCH 7 ...\n",
      "Validation Accuracy = 0.694\n",
      "()\n",
      "EPOCH 8 ...\n",
      "Validation Accuracy = 0.867\n",
      "()\n",
      "EPOCH 9 ...\n",
      "Validation Accuracy = 0.944\n",
      "()\n",
      "EPOCH 10 ...\n",
      "Validation Accuracy = 0.987\n",
      "()\n",
      "Model saved\n"
     ]
    }
   ],
   "source": [
    "# Start training the network\n",
    "\n",
    "print(\"Starting learning\")\n",
    "save_file = './learned_model/facerec'\n",
    "with tf.Session() as sess:\n",
    "    sess.run(init)\n",
    "\n",
    "    print('Training....')\n",
    "    print()\n",
    "    epochs = 0\n",
    "    validation_accuracy = 0.0\n",
    "    while validation_accuracy < 0.95 :\n",
    "        epochs += 1\n",
    "        X_train_norm, y_train = shuffle(X_train_norm,y_train)\n",
    "        for start in range(0,train_size,batch_size):\n",
    "            end = start + batch_size\n",
    "            batch_x, batch_y = X_train_norm[start:end],y_train[start:end]\n",
    "            sess.run(optimizer, feed_dict = {x: batch_x, y: batch_y, dropout: 0.75})\n",
    "\n",
    "        \n",
    "        validation_accuracy = evaluate(X_valid_norm, y_valid)\n",
    "        print(\"EPOCH {} ...\".format(epochs))\n",
    "        print(\"Validation Accuracy = {:.3f}\".format(validation_accuracy))\n",
    "        print()\n",
    "    \n",
    "    saver.save(sess, save_file)\n",
    "    print(\"Model saved\")"
   ]
  },
  {
   "cell_type": "code",
   "execution_count": 2,
   "metadata": {},
   "outputs": [],
   "source": [
    "def cropped_gray_multiple_faces(path):\n",
    "    image = cv2.imread(imgpath)\n",
    "    rgb = cv2.cvtColor(image, cv2.COLOR_BGR2RGB)\n",
    "    boxes = face_recognition.face_locations(rgb)\n",
    "    detected_faces = []\n",
    "    for box in boxes:\n",
    "        top, right, bottom, left = box\n",
    "        cropped_gray_image = cv2.cvtColor(rgb[top:bottom, left:right], cv2.COLOR_RGB2GRAY)\n",
    "        norm_image = cv2.normalize(cropped_gray_image, None, alpha=0, beta=1, norm_type=cv2.NORM_MINMAX, dtype=cv2.CV_32F)\n",
    "        resized_image = cv2.resize(norm_image, (32, 32))\n",
    "        resized_image = np.asarray(resized_image, dtype = np.float32)\n",
    "        resized_image = np.stack((resized_image, resized_image, resized_image), axis = -1)\n",
    "        detected_faces.append(resized_image)\n",
    "    return(detected_faces)"
   ]
  },
  {
   "cell_type": "code",
   "execution_count": null,
   "metadata": {},
   "outputs": [],
   "source": [
    "with open('test2Images.csv', 'r') as f:\n",
    "    reader = csv.reader(f)\n",
    "    for row in reader:\n",
    "        imgpath = row[0]\n",
    "        faces_in_img = cropped_gray_multiple_faces(imgpath)\n",
    "        clas = row[1]\n",
    "        images = []\n",
    "        labels = []\n",
    "        for face in faces_in_img:\n",
    "            images.append(face)\n",
    "            labels.append(clas)\n",
    "        save_file = './learned_model/facerec'\n",
    "        with tf.Session() as sess:\n",
    "            #sess.run(tf.global_variables_initializer())\n",
    "            saver.restore(sess,save_file)\n",
    "            test_accuracy = evaluate(images, labels)\n",
    "            print(\"Test Accuracy = {:.3f}\".format(test_accuracy))\n",
    "            "
   ]
  }
 ],
 "metadata": {
  "kernelspec": {
   "display_name": "Python 2",
   "language": "python",
   "name": "python2"
  },
  "language_info": {
   "codemirror_mode": {
    "name": "ipython",
    "version": 2
   },
   "file_extension": ".py",
   "mimetype": "text/x-python",
   "name": "python",
   "nbconvert_exporter": "python",
   "pygments_lexer": "ipython2",
   "version": "2.7.12"
  }
 },
 "nbformat": 4,
 "nbformat_minor": 2
}
